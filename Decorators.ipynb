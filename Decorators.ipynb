{
 "cells": [
  {
   "cell_type": "code",
   "execution_count": 1,
   "metadata": {},
   "outputs": [
    {
     "name": "stdout",
     "output_type": "stream",
     "text": [
      "Start\n",
      "Elsa\n",
      "End\n"
     ]
    }
   ],
   "source": [
    "def start_end_decorator(func):\n",
    "    \n",
    "    def wrapper():\n",
    "        print('Start')\n",
    "        func()\n",
    "        print('End')\n",
    "    return wrapper\n",
    "\n",
    "def printname():\n",
    "    print('Elsa')\n",
    "\n",
    "printname = start_end_decorator(printname) \n",
    "printname()"
   ]
  },
  {
   "cell_type": "markdown",
   "metadata": {},
   "source": [
    "Now the printname function has this new functionality. \n",
    "It prints 'Start', then it executes the function and prints 'Elsa' and then it prints 'End'.\n",
    "\n",
    "Now the decorator function will do the same thing as the line: \"  printname = start_end_decorator(printname)  \""
   ]
  },
  {
   "cell_type": "code",
   "execution_count": 2,
   "metadata": {},
   "outputs": [
    {
     "name": "stdout",
     "output_type": "stream",
     "text": [
      "Start\n",
      "Elsa\n",
      "End\n"
     ]
    }
   ],
   "source": [
    "def start_end_decorator(func):\n",
    "    \n",
    "    def wrapper():\n",
    "        print('Start')\n",
    "        func()\n",
    "        print('End')\n",
    "    return wrapper\n",
    "\n",
    "@start_end_decorator\n",
    "def printname():\n",
    "    print('Elsa')\n",
    "    \n",
    "printname()"
   ]
  },
  {
   "cell_type": "markdown",
   "metadata": {},
   "source": [
    "Let's say we have a function that takes an argument."
   ]
  },
  {
   "cell_type": "code",
   "execution_count": 4,
   "metadata": {},
   "outputs": [
    {
     "name": "stdout",
     "output_type": "stream",
     "text": [
      "Start\n",
      "End\n"
     ]
    }
   ],
   "source": [
    "def start_end_decorator(func):\n",
    "    \n",
    "    def wrapper(*args, **kwargs):  # We this syntax I can use as many arguments and keywords arguments as I want\n",
    "        print('Start')\n",
    "        func(*args, **kwargs)  \n",
    "        print('End')\n",
    "    return wrapper\n",
    "\n",
    "@start_end_decorator\n",
    "def add5(x):\n",
    "    return 5\n",
    "\n",
    "add5(10)"
   ]
  },
  {
   "cell_type": "markdown",
   "metadata": {},
   "source": [
    "It works! But what about the return value?"
   ]
  },
  {
   "cell_type": "code",
   "execution_count": 8,
   "metadata": {},
   "outputs": [
    {
     "name": "stdout",
     "output_type": "stream",
     "text": [
      "Start\n",
      "End\n",
      "None\n"
     ]
    }
   ],
   "source": [
    "result = add5(10)\n",
    "print(result)"
   ]
  },
  {
   "cell_type": "markdown",
   "metadata": {},
   "source": [
    "It prints None. To fix this, I need to save the result and return it in the wrapper."
   ]
  },
  {
   "cell_type": "code",
   "execution_count": 9,
   "metadata": {},
   "outputs": [
    {
     "name": "stdout",
     "output_type": "stream",
     "text": [
      "Start\n",
      "End\n",
      "5\n"
     ]
    }
   ],
   "source": [
    "def start_end_decorator(func):\n",
    "    \n",
    "    def wrapper(*args, **kwargs):\n",
    "        print('Start')\n",
    "        result = func(*args, **kwargs)  \n",
    "        print('End')\n",
    "        return result\n",
    "    return wrapper\n",
    "\n",
    "@start_end_decorator\n",
    "def add5(x):\n",
    "    return 5\n",
    "\n",
    "result = add5(10)\n",
    "print(result)"
   ]
  },
  {
   "cell_type": "code",
   "execution_count": 10,
   "metadata": {},
   "outputs": [
    {
     "name": "stdout",
     "output_type": "stream",
     "text": [
      "Help on function wrapper in module __main__:\n",
      "\n",
      "wrapper(*args, **kwargs)\n",
      "\n",
      "None\n",
      "wrapper\n"
     ]
    }
   ],
   "source": [
    "print(help(add5))\n",
    "print(add5.__name__)"
   ]
  },
  {
   "cell_type": "markdown",
   "metadata": {},
   "source": [
    "Python got confused about the identity of add5 function. In order to fix this, I can import functools and apply a decorator before wrapper."
   ]
  },
  {
   "cell_type": "code",
   "execution_count": 11,
   "metadata": {},
   "outputs": [],
   "source": [
    "import functools"
   ]
  },
  {
   "cell_type": "code",
   "execution_count": 13,
   "metadata": {},
   "outputs": [],
   "source": [
    "def start_end_decorator(func):\n",
    "    #this will now preserve the information of my used function\n",
    "    @functools.wraps(func)\n",
    "    def wrapper(*args, **kwargs):\n",
    "        print('Start')\n",
    "        result = func(*args, **kwargs)  \n",
    "        print('End')\n",
    "        return result\n",
    "    return wrapper\n",
    "\n",
    "@start_end_decorator\n",
    "def add5(x):\n",
    "    return 5"
   ]
  },
  {
   "cell_type": "code",
   "execution_count": 14,
   "metadata": {},
   "outputs": [
    {
     "name": "stdout",
     "output_type": "stream",
     "text": [
      "Help on function add5 in module __main__:\n",
      "\n",
      "add5(x)\n",
      "    #this will now preserve the information of my used function\n",
      "\n",
      "None\n",
      "add5\n"
     ]
    }
   ],
   "source": [
    "print(help(add5))\n",
    "print(add5.__name__)"
   ]
  },
  {
   "cell_type": "code",
   "execution_count": 15,
   "metadata": {},
   "outputs": [
    {
     "name": "stdout",
     "output_type": "stream",
     "text": [
      "Hello Elsa\n",
      "Hello Elsa\n",
      "Hello Elsa\n"
     ]
    }
   ],
   "source": [
    "def repeat(num_times):\n",
    "    \n",
    "    def decorator_repeat(func):\n",
    "        @functools.wraps(func)\n",
    "        def wrapper(*args, **kwargs):\n",
    "            for _ in  range(num_times):  #I put \"_\" because I don't need it\n",
    "                result = func(*args, **kwargs)\n",
    "            return result\n",
    "        return wrapper\n",
    "    return decorator_repeat\n",
    "\n",
    "@repeat(num_times=3) #executes this function 3 times\n",
    "def greet(name):\n",
    "    print(f'Hello {name}')\n",
    "    \n",
    "greet('Elsa')"
   ]
  },
  {
   "cell_type": "markdown",
   "metadata": {},
   "source": [
    "Let's talk about nested decorators. You can stack decorators on top of each other."
   ]
  },
  {
   "cell_type": "code",
   "execution_count": 17,
   "metadata": {},
   "outputs": [
    {
     "name": "stdout",
     "output_type": "stream",
     "text": [
      "Calling say_hello('Elsa')\n",
      "Start\n",
      "Hello Elsa\n",
      "End\n",
      "'say_hello' returned 'Hello Elsa'\n"
     ]
    },
    {
     "data": {
      "text/plain": [
       "'Hello Elsa'"
      ]
     },
     "execution_count": 17,
     "metadata": {},
     "output_type": "execute_result"
    }
   ],
   "source": [
    "def debug(func):\n",
    "    @functools.wraps(func)\n",
    "    def wrapper(*args, **kwargs):\n",
    "        args_repr = [repr(a) for a in args]  #extracts the name in the arguments\n",
    "        kwargs_repr = [f\"{k}={v!r}\" for k,v in kwargs.items()]  #and the keyword arguments\n",
    "        signature = \", \".join(args_repr + kwargs_repr)\n",
    "        print(f\"Calling {func.__name__}({signature})\")  #prints the information of this function\n",
    "        result = func(*args, **kwargs)  #it executes the function\n",
    "        print(f\"{func.__name__!r} returned {result!r}\")  #prints the information about the return value\n",
    "        return result\n",
    "    return wrapper\n",
    "    \n",
    "\n",
    "#the decoraters will be executed in the order they are listed\n",
    "@debug\n",
    "@start_end_decorator\n",
    "def say_hello(name):\n",
    "    greeting = f'Hello {name}'\n",
    "    print(greeting)\n",
    "    return greeting\n",
    "\n",
    "#1. Executes the debug function\n",
    "#2. Inside the debug function, , it executes the start_end_decorator function\n",
    "#3. Inside the start_end_decorator function, it executes the say_hello function\n",
    "say_hello('Elsa')"
   ]
  },
  {
   "cell_type": "markdown",
   "metadata": {},
   "source": [
    "Let's talk about class decorators. Class decorators do the same thing as function decorators but thay are typically used if we want to maintain and update a state.\n",
    "\n",
    "In this examples, I want to keep track of how many times I have executed a function."
   ]
  },
  {
   "cell_type": "code",
   "execution_count": 19,
   "metadata": {},
   "outputs": [
    {
     "name": "stdout",
     "output_type": "stream",
     "text": [
      "Hi there\n"
     ]
    }
   ],
   "source": [
    "class CountCalls:\n",
    "    \n",
    "    def __init__(self,func):\n",
    "        self.func = func\n",
    "        self.num_calls = 0\n",
    "        \n",
    "    def __call__(self, *args, **kwargs):\n",
    "        print('Hi there')\n",
    "        \n",
    "cc = CountCalls(None)\n",
    "cc()\n",
    "\n",
    "@CountCalls\n",
    "def say_hello():\n",
    "    print('Hello')"
   ]
  },
  {
   "cell_type": "markdown",
   "metadata": {},
   "source": [
    "I don't want to print 'Hi there'. I want to update the state."
   ]
  },
  {
   "cell_type": "code",
   "execution_count": 21,
   "metadata": {},
   "outputs": [
    {
     "name": "stdout",
     "output_type": "stream",
     "text": [
      "This is executed 1 times\n",
      "Hello\n"
     ]
    }
   ],
   "source": [
    "class CountCalls:\n",
    "    \n",
    "    def __init__(self,func):\n",
    "        self.func = func\n",
    "        self.num_calls = 0\n",
    "        \n",
    "    def __call__(self, *args, **kwargs):\n",
    "        self.num_calls += 1\n",
    "        print(f'This is executed {self.num_calls} times')\n",
    "        return self.func(*args, **kwargs)\n",
    "        \n",
    "\n",
    "@CountCalls\n",
    "def say_hello():\n",
    "    print('Hello')\n",
    "\n",
    "say_hello()"
   ]
  },
  {
   "cell_type": "code",
   "execution_count": 22,
   "metadata": {},
   "outputs": [
    {
     "name": "stdout",
     "output_type": "stream",
     "text": [
      "This is executed 2 times\n",
      "Hello\n"
     ]
    }
   ],
   "source": [
    "say_hello()"
   ]
  },
  {
   "cell_type": "code",
   "execution_count": null,
   "metadata": {},
   "outputs": [],
   "source": []
  }
 ],
 "metadata": {
  "kernelspec": {
   "display_name": "Python 3",
   "language": "python",
   "name": "python3"
  },
  "language_info": {
   "codemirror_mode": {
    "name": "ipython",
    "version": 3
   },
   "file_extension": ".py",
   "mimetype": "text/x-python",
   "name": "python",
   "nbconvert_exporter": "python",
   "pygments_lexer": "ipython3",
   "version": "3.8.3"
  }
 },
 "nbformat": 4,
 "nbformat_minor": 4
}
