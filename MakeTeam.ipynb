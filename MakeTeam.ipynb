{
 "cells": [
  {
   "cell_type": "code",
   "execution_count": 5,
   "metadata": {},
   "outputs": [],
   "source": [
    "def make_team():\n",
    "    \"\"\"\n",
    "    Write a function that takes a dictionary called people as input (see below) \n",
    "    and returns 3 lists named cook, gardener and clerk containing the name of \n",
    "    each individual with this job.\n",
    "    \"\"\"\n",
    "    \n",
    "    people = {\n",
    "        'Pete': {\n",
    "            'Age': 51,\n",
    "            'Job': 'Cook'\n",
    "        },\n",
    "        'John': {\n",
    "            'Age': 32,\n",
    "            'Job': 'Gardener'\n",
    "        },\n",
    "        'Jim': {\n",
    "            'Age': 45,\n",
    "            'Job': 'Cook'\n",
    "        },\n",
    "        'Sheila': {\n",
    "            'Age': 19,\n",
    "            'Job': 'Clerk'\n",
    "        },\n",
    "        'Carol': {\n",
    "            'Age': 67,\n",
    "            'Job': 'Gardener'\n",
    "        },\n",
    "        'Richard': {\n",
    "            'Age': 17,\n",
    "            'Job': 'Clerk'\n",
    "        }\n",
    "    }\n",
    "        \n",
    "    cook = []\n",
    "    gardener = []\n",
    "    clerk = []\n",
    "    # write your code here\n",
    "    for key,value in people.items():\n",
    "        for k,v in value.items():\n",
    "            if k == 'Job':\n",
    "                if v == 'Cook':\n",
    "                    cook.append(key)\n",
    "                if v == 'Gardener':\n",
    "                    gardener.append(key)\n",
    "                if v == 'Clerk':\n",
    "                    clerk.append(key)\n",
    "    \n",
    "    \n",
    "    return cook, gardener, clerk"
   ]
  },
  {
   "cell_type": "code",
   "execution_count": 6,
   "metadata": {},
   "outputs": [
    {
     "data": {
      "text/plain": [
       "(['Pete', 'Jim'], ['John', 'Carol'], ['Sheila', 'Richard'])"
      ]
     },
     "execution_count": 6,
     "metadata": {},
     "output_type": "execute_result"
    }
   ],
   "source": [
    "make_team()"
   ]
  },
  {
   "cell_type": "code",
   "execution_count": null,
   "metadata": {},
   "outputs": [],
   "source": []
  }
 ],
 "metadata": {
  "kernelspec": {
   "display_name": "Python 3",
   "language": "python",
   "name": "python3"
  },
  "language_info": {
   "codemirror_mode": {
    "name": "ipython",
    "version": 3
   },
   "file_extension": ".py",
   "mimetype": "text/x-python",
   "name": "python",
   "nbconvert_exporter": "python",
   "pygments_lexer": "ipython3",
   "version": "3.8.3"
  }
 },
 "nbformat": 4,
 "nbformat_minor": 4
}
