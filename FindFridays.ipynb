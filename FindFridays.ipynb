{
 "cells": [
  {
   "cell_type": "code",
   "execution_count": 1,
   "metadata": {},
   "outputs": [],
   "source": [
    "def find_fridays(start_date, end_date):\n",
    "    \"\"\"\n",
    "    Write a function that given a start date and end date returns how many \n",
    "    Fridays there are between the two dates.\n",
    "    start_date and end_date should be 'YYYY-MM-DD' strings, e.g. '2014-01-31'\n",
    "    \"\"\"\n",
    "    \n",
    "    number_of_fridays = 0\n",
    "    \n",
    "    # write you code here\n",
    "    import datetime\n",
    "    import calendar\n",
    "\n",
    "    start = datetime.datetime.strptime(start_date, '%Y-%m-%d').date()\n",
    "    end = datetime.datetime.strptime(end_date, '%Y-%m-%d').date()\n",
    "    diff = end - start\n",
    "    days = {\n",
    "    0: 0,\n",
    "    1: 0,\n",
    "    2: 0,\n",
    "    3: 0,\n",
    "    4: 0,\n",
    "    5: 0,\n",
    "    6: 0,\n",
    "}\n",
    "    full_weeks = (diff.days) // 7\n",
    "    remainder = (diff.days) % 7\n",
    "    first_day = start.weekday()\n",
    "    for day in days.keys():\n",
    "        days[day] = full_weeks\n",
    "    \n",
    "    for i in range(0, remainder):\n",
    "        days[(first_day + i) % 7] += 1\n",
    "    \n",
    "    number_of_fridays = days[4]\n",
    "    \n",
    "    return number_of_fridays"
   ]
  },
  {
   "cell_type": "code",
   "execution_count": 2,
   "metadata": {},
   "outputs": [
    {
     "data": {
      "text/plain": [
       "53"
      ]
     },
     "execution_count": 2,
     "metadata": {},
     "output_type": "execute_result"
    }
   ],
   "source": [
    "find_fridays('2014-01-31', '2015-01-31')"
   ]
  },
  {
   "cell_type": "code",
   "execution_count": 3,
   "metadata": {},
   "outputs": [
    {
     "data": {
      "text/plain": [
       "2"
      ]
     },
     "execution_count": 3,
     "metadata": {},
     "output_type": "execute_result"
    }
   ],
   "source": [
    "find_fridays('2014-01-31', '2014-02-10')"
   ]
  },
  {
   "cell_type": "code",
   "execution_count": 4,
   "metadata": {},
   "outputs": [
    {
     "data": {
      "text/plain": [
       "4698"
      ]
     },
     "execution_count": 4,
     "metadata": {},
     "output_type": "execute_result"
    }
   ],
   "source": [
    "find_fridays('1967-01-31', '2057-02-10')"
   ]
  },
  {
   "cell_type": "code",
   "execution_count": null,
   "metadata": {},
   "outputs": [],
   "source": []
  }
 ],
 "metadata": {
  "kernelspec": {
   "display_name": "Python 3",
   "language": "python",
   "name": "python3"
  },
  "language_info": {
   "codemirror_mode": {
    "name": "ipython",
    "version": 3
   },
   "file_extension": ".py",
   "mimetype": "text/x-python",
   "name": "python",
   "nbconvert_exporter": "python",
   "pygments_lexer": "ipython3",
   "version": "3.8.3"
  }
 },
 "nbformat": 4,
 "nbformat_minor": 4
}
